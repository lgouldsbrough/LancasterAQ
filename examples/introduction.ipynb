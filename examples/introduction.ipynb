{
 "cells": [
  {
   "cell_type": "code",
   "execution_count": 4,
   "metadata": {},
   "outputs": [
    {
     "name": "stderr",
     "output_type": "stream",
     "text": [
      "[autoreload of LancasterAQ.data.data_object failed: Traceback (most recent call last):\n",
      "  File \"/home/pindert2/miniconda3/envs/lancasteraq-env/lib/python3.10/site-packages/IPython/extensions/autoreload.py\", line 257, in check\n",
      "    superreload(m, reload, self.old_objects)\n",
      "  File \"/home/pindert2/miniconda3/envs/lancasteraq-env/lib/python3.10/site-packages/IPython/extensions/autoreload.py\", line 455, in superreload\n",
      "    module = reload(module)\n",
      "  File \"/home/pindert2/miniconda3/envs/lancasteraq-env/lib/python3.10/importlib/__init__.py\", line 169, in reload\n",
      "    _bootstrap._exec(spec, module)\n",
      "  File \"<frozen importlib._bootstrap>\", line 619, in _exec\n",
      "  File \"<frozen importlib._bootstrap_external>\", line 883, in exec_module\n",
      "  File \"<frozen importlib._bootstrap>\", line 241, in _call_with_frames_removed\n",
      "  File \"/home/pindert2/python_dev/LancasterAQ/src/LancasterAQ/data/data_object.py\", line 32, in <module>\n",
      "    class TabularObject(DataObject):\n",
      "  File \"/home/pindert2/python_dev/LancasterAQ/src/LancasterAQ/data/data_object.py\", line 37, in TabularObject\n",
      "    def to_numpy(self) -> np.ndarray:\n",
      "NameError: name 'np' is not defined\n",
      "]\n"
     ]
    }
   ],
   "source": [
    "import LancasterAQ as laq"
   ]
  },
  {
   "cell_type": "code",
   "execution_count": 5,
   "metadata": {},
   "outputs": [],
   "source": [
    "data = laq.TabularObject()"
   ]
  },
  {
   "cell_type": "code",
   "execution_count": 6,
   "metadata": {},
   "outputs": [
    {
     "ename": "AttributeError",
     "evalue": "'TabularObject' object has no attribute 'to_pandas'",
     "output_type": "error",
     "traceback": [
      "\u001b[0;31m---------------------------------------------------------------------------\u001b[0m",
      "\u001b[0;31mAttributeError\u001b[0m                            Traceback (most recent call last)",
      "\u001b[1;32m/home/pindert2/python_dev/LancasterAQ/examples/introduction.ipynb Cell 3\u001b[0m in \u001b[0;36m<cell line: 1>\u001b[0;34m()\u001b[0m\n\u001b[0;32m----> <a href='vscode-notebook-cell://ssh-remote%2B7b22686f73744e616d65223a224368726973227d/home/pindert2/python_dev/LancasterAQ/examples/introduction.ipynb#ch0000002vscode-remote?line=0'>1</a>\u001b[0m data\u001b[39m.\u001b[39;49mto_pandas()\n",
      "\u001b[0;31mAttributeError\u001b[0m: 'TabularObject' object has no attribute 'to_pandas'"
     ]
    }
   ],
   "source": [
    "data.to_pandas()"
   ]
  },
  {
   "cell_type": "code",
   "execution_count": null,
   "metadata": {},
   "outputs": [],
   "source": []
  }
 ],
 "metadata": {
  "kernelspec": {
   "display_name": "Python 3.10.4 ('lancasteraq-env')",
   "language": "python",
   "name": "python3"
  },
  "language_info": {
   "codemirror_mode": {
    "name": "ipython",
    "version": 3
   },
   "file_extension": ".py",
   "mimetype": "text/x-python",
   "name": "python",
   "nbconvert_exporter": "python",
   "pygments_lexer": "ipython3",
   "version": "3.10.5"
  },
  "orig_nbformat": 4,
  "vscode": {
   "interpreter": {
    "hash": "eb1981345f7029076d89a3baaef5a117fc816a887521cd0f3ff5de06d3cd5801"
   }
  }
 },
 "nbformat": 4,
 "nbformat_minor": 2
}
